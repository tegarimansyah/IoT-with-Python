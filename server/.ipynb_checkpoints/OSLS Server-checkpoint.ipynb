{
 "cells": [
  {
   "cell_type": "code",
   "execution_count": 1,
   "metadata": {
    "scrolled": true
   },
   "outputs": [],
   "source": [
    "from flask import Flask, jsonify, abort, make_response, request\n",
    "from flask_sqlalchemy import SQLAlchemy\n",
    "from datetime import datetime"
   ]
  },
  {
   "cell_type": "markdown",
   "metadata": {},
   "source": [
    "# Flask Config"
   ]
  },
  {
   "cell_type": "code",
   "execution_count": 2,
   "metadata": {},
   "outputs": [],
   "source": [
    "user = 'root'\n",
    "password = 'root'\n",
    "host = 'localhost'\n",
    "port = 3306\n",
    "dbname = 'osls'\n",
    "\n",
    "db_uri = 'mysql+mysqldb://%s:%s@%s:%d/%s' % (user, password, host, port, dbname)"
   ]
  },
  {
   "cell_type": "code",
   "execution_count": 3,
   "metadata": {},
   "outputs": [],
   "source": [
    "app = Flask(__name__)\n",
    "app.config['SQLALCHEMY_DATABASE_URI'] = db_uri\n",
    "app.config['SQLALCHEMY_TRACK_MODIFICATIONS'] = True\n",
    "db = SQLAlchemy(app)"
   ]
  },
  {
   "cell_type": "markdown",
   "metadata": {},
   "source": [
    "# Supporting Function"
   ]
  },
  {
   "cell_type": "code",
   "execution_count": 4,
   "metadata": {},
   "outputs": [],
   "source": [
    "import hashlib\n",
    "def hashit(text):\n",
    "    text = password.encode('UTF-8')\n",
    "    hash_object = hashlib.sha256(text)\n",
    "    hex_dig = hash_object.hexdigest()\n",
    "    return hex_dig"
   ]
  },
  {
   "cell_type": "markdown",
   "metadata": {},
   "source": [
    "# Database"
   ]
  },
  {
   "cell_type": "code",
   "execution_count": 5,
   "metadata": {},
   "outputs": [],
   "source": [
    "class Users(db.Model):\n",
    "    __table_args__ = {'extend_existing': True}  \n",
    "    \n",
    "    id = db.Column(db.Integer, primary_key=True)\n",
    "    username = db.Column(db.String(80), unique=True, nullable=False)\n",
    "    email = db.Column(db.String(120), unique=True, nullable=False)\n",
    "    password = db.Column(db.String(120), nullable=False)\n",
    "    appkey = db.Column(db.String(64), unique=True, nullable=False)\n",
    "    date_registered = db.Column(db.DateTime, default=datetime.utcnow)\n",
    "    location = db.Column(db.String(30), nullable=True)\n",
    "\n",
    "    def __repr__(self):\n",
    "        return '<User %r>' % self.username"
   ]
  },
  {
   "cell_type": "code",
   "execution_count": 6,
   "metadata": {},
   "outputs": [],
   "source": [
    "class Lamps(db.Model):\n",
    "    __table_args__ = {'extend_existing': True} \n",
    "    \n",
    "    id = db.Column(db.Integer, primary_key=True)\n",
    "    owner =  db.Column(db.Integer, db.ForeignKey('users.id'), nullable=False)\n",
    "    device_name = db.Column(db.String(120), index=True, nullable=False)\n",
    "    state = db.Column(db.Boolean, default=0, nullable=False)\n",
    "    last_change = db.Column(db.DateTime, nullable=False)\n",
    "\n",
    "    def __repr__(self):\n",
    "        return '<Lamp %r>' % self.device_name"
   ]
  },
  {
   "cell_type": "code",
   "execution_count": 7,
   "metadata": {},
   "outputs": [],
   "source": [
    "db.create_all()"
   ]
  },
  {
   "cell_type": "code",
   "execution_count": 8,
   "metadata": {},
   "outputs": [],
   "source": [
    "def savedb(data):\n",
    "    db.session.add(data)\n",
    "    db.session.commit()"
   ]
  },
  {
   "cell_type": "markdown",
   "metadata": {},
   "source": [
    "# Fungsi Operasi"
   ]
  },
  {
   "cell_type": "code",
   "execution_count": 9,
   "metadata": {},
   "outputs": [],
   "source": [
    "def registrasi_akun(uname, email, password):\n",
    "    try:\n",
    "        import uuid\n",
    "        password = hashit(password)\n",
    "        appkey = str(uuid.uuid4())\n",
    "        newuser = Users(username=uname, email=email, password=password, appkey=appkey)\n",
    "        savedb(newuser)\n",
    "        data= {\n",
    "            'id' : newuser.id,\n",
    "            'username' : newuser.username,\n",
    "            'email' : newuser.email,\n",
    "            'appkey' : newuser.appkey,\n",
    "            'date_registered' : newuser.date_registered,\n",
    "            'location' : newuser.location\n",
    "        }\n",
    "        return {'status': 'success', 'data': data}, 201\n",
    "    \n",
    "    except:\n",
    "        db.session.rollback()\n",
    "        return {'status': 'failed', 'data': 'Username atau email sudah digunakan'}, 400"
   ]
  },
  {
   "cell_type": "code",
   "execution_count": 10,
   "metadata": {},
   "outputs": [],
   "source": [
    "def registrasi_lampu(device_name, uname):\n",
    "    try:\n",
    "        state = False\n",
    "        newlamp = Lamps(device_name = device_name, state = state, owner = Users.query.filter_by(username=uname).first().id, last_change=datetime.utcnow())\n",
    "        savedb(newlamp)\n",
    "        data= {\n",
    "            'id' : newlamp.id,\n",
    "            'device_name' : newlamp.device_name,\n",
    "            'state' : newlamp.state,\n",
    "            'owner' : newlamp.owner,\n",
    "            'last_change' : newlamp.last_change\n",
    "        }\n",
    "        \n",
    "        return {'status': 'success', 'data': data}, 201\n",
    "    except:\n",
    "        db.session.rollback()\n",
    "        return {'status': 'failed', 'data': 'Lampu tidak dapat didaftarkan'}, 400"
   ]
  },
  {
   "cell_type": "code",
   "execution_count": 11,
   "metadata": {},
   "outputs": [],
   "source": [
    "def list_lampu(uname, lampuid = 0):\n",
    "    try:\n",
    "        if lampuid == 0:\n",
    "            lamps = Lamps.query.filter_by(owner = (Users.query.filter_by(username=uname).first().id)).all()\n",
    "            data = []\n",
    "            for lamp in lamps:\n",
    "                lamp_data = {}\n",
    "                lamp_data['id'] = lamp.id\n",
    "                lamp_data['device_name'] = lamp.device_name\n",
    "                lamp_data['state'] = lamp.state\n",
    "                lamp_data['last_change'] = lamp.last_change\n",
    "                data.append(lamp_data)\n",
    "            return {'status': 'success', 'data': data}, 201\n",
    "        else:\n",
    "            lamp = Lamps.query.filter_by(owner = (Users.query.filter_by(username=uname).first().id), id=lampuid).first()\n",
    "            lamp_data = {}\n",
    "            lamp_data['id'] = lamp.id\n",
    "            lamp_data['device_name'] = lamp.device_name\n",
    "            lamp_data['state'] = lamp.state\n",
    "            lamp_data['last_change'] = lamp.last_change\n",
    "            return {'status': 'success', 'data': lamp_data}, 201\n",
    "    except:\n",
    "            return {'status': 'failed', 'data': 'Not found'}, 404"
   ]
  },
  {
   "cell_type": "code",
   "execution_count": 12,
   "metadata": {},
   "outputs": [],
   "source": [
    "def update_lampu(uname, lampustate, lampuid = 0):\n",
    "    if not isinstance(lampustate, bool):\n",
    "        return {'status': 'failed', 'data': 'state error'}, 400\n",
    "    \n",
    "    try:\n",
    "\n",
    "        if lampuid == 0:\n",
    "            lamps = Lamps.query.filter_by(owner = (Users.query.filter_by(username=uname).first().id)).all()\n",
    "            data = []\n",
    "            for lamp in lamps:\n",
    "                lamp.state = lampustate\n",
    "                lamp_data = {}\n",
    "                lamp_data['id'] = lamp.id\n",
    "                lamp_data['device_name'] = lamp.device_name\n",
    "                lamp_data['state'] = lamp.state\n",
    "                lamp_data['last_change'] = lamp.last_change\n",
    "                data.append(lamp_data)\n",
    "            db.session.bulk_save_objects(lamps)\n",
    "            db.session.commit()\n",
    "            return {'status': 'success', 'data': data}, 201\n",
    "\n",
    "        else:\n",
    "            lamp = Lamps.query.filter_by(owner = (Users.query.filter_by(username=uname).first().id), id=lampuid).first()\n",
    "            lamp.state = lampustate\n",
    "            lamp_data = {}\n",
    "            savedb(lamp)\n",
    "\n",
    "            lamp_data['id'] = lamp.id\n",
    "            lamp_data['device_name'] = lamp.device_name\n",
    "            lamp_data['state'] = lamp.state\n",
    "            lamp_data['last_change'] = lamp.last_change\n",
    "            return {'status': 'success', 'data': lamp_data}, 201\n",
    "    \n",
    "    except:\n",
    "        return {'status': 'failed', 'data': 'Not found'}, 404        "
   ]
  },
  {
   "cell_type": "markdown",
   "metadata": {},
   "source": [
    "# Test Fungsi"
   ]
  },
  {
   "cell_type": "raw",
   "metadata": {},
   "source": [
    "registrasi_akun('tegariman','tegar@imansyah.name','masukaja')"
   ]
  },
  {
   "cell_type": "raw",
   "metadata": {},
   "source": [
    "registrasi_lampu('Kamar mandi', 'tegar')"
   ]
  },
  {
   "cell_type": "raw",
   "metadata": {},
   "source": [
    "list_lampu('tegar')"
   ]
  },
  {
   "cell_type": "raw",
   "metadata": {},
   "source": [
    "list_lampu('tegar',1)"
   ]
  },
  {
   "cell_type": "raw",
   "metadata": {},
   "source": [
    "update_lampu('tegar', False)"
   ]
  },
  {
   "cell_type": "raw",
   "metadata": {},
   "source": [
    "update_lampu('tegar', True, 1)"
   ]
  },
  {
   "cell_type": "markdown",
   "metadata": {},
   "source": [
    "# API"
   ]
  },
  {
   "cell_type": "markdown",
   "metadata": {},
   "source": [
    "HTTP Method | Action | Examples\n",
    "--- | --- | --- \n",
    "Post | Registrasi akun | http://localhost:5000/lampu/api/reg/\n",
    "Post | Registrasi perangkat ke akun **tegar**| http://localhost:5000/lampu/api/tegar/\n",
    "Get | List semua lampu | http://localhost:5000/lampu/api/tegar/\n",
    "Get | Mendapat status lampu dengan ID 123| http://localhost:5000/lampu/api/tegar/123/\n",
    "Put | Update status semua lampu | http://localhost:5000/lampu/api/tegar/\n",
    "Put | Update status lampu dengan ID 123 | http://localhost:5000/lampu/api/tegar/123/"
   ]
  },
  {
   "cell_type": "code",
   "execution_count": 13,
   "metadata": {},
   "outputs": [],
   "source": [
    "@app.route('/reg/', methods=['POST'])\n",
    "def create_accout():\n",
    "    if request.json and 'uname' in request.json and 'email' in request.json and  'password' in request.json:\n",
    "        response = registrasi_akun(uname, email, password)\n",
    "    else if  request.json and  'uname' in request.json and 'device_name' in request.json\n",
    "        response = registrasi_lampu(device_name, uname)\n",
    "    else:\n",
    "        response = {'status': 'failed', 'data': 'Bad Reques'}, 400\n",
    "\n",
    "    return jsonify(response[0]), response[1]"
   ]
  },
  {
   "cell_type": "code",
   "execution_count": 14,
   "metadata": {},
   "outputs": [],
   "source": [
    "@app.route('/lampu/<uname>/', methods=['GET', 'POST'])\n",
    "def semualampu(uname):\n",
    "    if request.method == 'POST':\n",
    "        if not request.json or not 'state' in request.json:\n",
    "            response = {'status': 'failed', 'data': 'Bad Reques'}, 400\n",
    "        else:\n",
    "            response = update_lampu(uname, state)\n",
    "    else:\n",
    "        response = list_lampu(uname)\n",
    "        \n",
    "    return jsonify(response[0]), response[1]"
   ]
  },
  {
   "cell_type": "code",
   "execution_count": 15,
   "metadata": {},
   "outputs": [],
   "source": [
    "@app.route('/lampu/<uname>/<int:lampuid>/', methods=['GET', 'POST'])\n",
    "def lampuspesifik(uname, lampuid):\n",
    "    if request.method == 'POST':\n",
    "        if not request.json or not 'state' in request.json:\n",
    "            response = {'status': 'failed', 'data': 'Bad Reques'}, 400\n",
    "        else:\n",
    "            response = update_lampu(uname, state, lampuid)\n",
    "    else:\n",
    "        response = list_lampu(uname, lampuid)\n",
    "    return jsonify(response[0]), response[1]"
   ]
  },
  {
   "cell_type": "code",
   "execution_count": 16,
   "metadata": {},
   "outputs": [],
   "source": [
    "@app.errorhandler(404)\n",
    "def not_found(error):\n",
    "    return make_response(jsonify({'error': 'Not Found'}), 404)\n",
    "\n",
    "@app.errorhandler(400)\n",
    "def not_found(error):\n",
    "    return make_response(jsonify({'error': 'Bad Requesst'}), 404)"
   ]
  },
  {
   "cell_type": "code",
   "execution_count": 17,
   "metadata": {},
   "outputs": [
    {
     "name": "stderr",
     "output_type": "stream",
     "text": [
      " * Running on http://0.0.0.0:5000/ (Press CTRL+C to quit)\n",
      "127.0.0.1 - - [10/Apr/2018 16:55:13] \"GET /lampu/tegar/ HTTP/1.1\" 201 -\n",
      "127.0.0.1 - - [10/Apr/2018 16:57:00] \"GET /lampu/tegar/1 HTTP/1.1\" 301 -\n",
      "127.0.0.1 - - [10/Apr/2018 16:57:00] \"GET /lampu/tegar/1/ HTTP/1.1\" 201 -\n",
      "127.0.0.1 - - [10/Apr/2018 16:57:15] \"GET /lampu/tegar/0 HTTP/1.1\" 301 -\n",
      "127.0.0.1 - - [10/Apr/2018 16:57:15] \"GET /lampu/tegar/0/ HTTP/1.1\" 201 -\n",
      "127.0.0.1 - - [10/Apr/2018 16:57:26] \"GET /lampu/tegar/9 HTTP/1.1\" 301 -\n",
      "127.0.0.1 - - [10/Apr/2018 16:57:26] \"GET /lampu/tegar/9/ HTTP/1.1\" 404 -\n",
      "127.0.0.1 - - [10/Apr/2018 16:57:44] \"GET /lampu/tegar/0/ HTTP/1.1\" 201 -\n"
     ]
    }
   ],
   "source": [
    "if __name__ == '__main__':\n",
    "    app.run(host= '0.0.0.0',debug=False)"
   ]
  },
  {
   "cell_type": "code",
   "execution_count": null,
   "metadata": {},
   "outputs": [],
   "source": []
  }
 ],
 "metadata": {
  "kernelspec": {
   "display_name": "Python 3",
   "language": "python",
   "name": "python3"
  },
  "language_info": {
   "codemirror_mode": {
    "name": "ipython",
    "version": 3
   },
   "file_extension": ".py",
   "mimetype": "text/x-python",
   "name": "python",
   "nbconvert_exporter": "python",
   "pygments_lexer": "ipython3",
   "version": "3.6.3"
  }
 },
 "nbformat": 4,
 "nbformat_minor": 2
}
