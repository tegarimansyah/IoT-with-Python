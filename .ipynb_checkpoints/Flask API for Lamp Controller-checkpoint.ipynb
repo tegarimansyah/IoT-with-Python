{
 "cells": [
  {
   "cell_type": "markdown",
   "metadata": {},
   "source": [
    "# API untuk Lamp Controller\n",
    "\n",
    "HTTP Method | Action | Examples\n",
    "--- | --- | --- \n",
    "Post | Registrasi akun | http://localhost:5000/lampu/api/reg/\n",
    "Post | Registrasi perangkat ke akun **tegar**| http://localhost:5000/lampu/api/tegar/\n",
    "Get | List semua lampu | http://localhost:5000/lampu/api/tegar/\n",
    "Get | Mendapat status lampu dengan ID 123| http://localhost:5000/lampu/api/tegar/123/\n",
    "Put | Update status semua lampu | http://localhost:5000/lampu/api/tegar/\n",
    "Put | Update status lampu dengan ID 123 | http://localhost:5000/lampu/api/tegar/123/\n",
    "\n",
    "\n",
    "```json\n",
    "{\n",
    "    'lamp_data': [{\n",
    "                    'name': 'User1'\n",
    "                    'data': [\n",
    "                        {'id': '4321', 'location': 'bathroom', 'state': 1},\n",
    "                        {'id': '5432', 'location': 'livingroom', 'state': 0}\n",
    "                            ],\n",
    "                    \n",
    "                   },\n",
    "                   {\n",
    "                    'name': 'User2'\n",
    "                    'data': [\n",
    "                        {'id': '1234', 'location': 'bathroom', 'state': 0},\n",
    "                        {'id': '1321', 'location': 'bedroon', 'state': 1}\n",
    "                            ],\n",
    "                    \n",
    "                   }]\n",
    "}\n",
    "```"
   ]
  },
  {
   "cell_type": "code",
   "execution_count": 1,
   "metadata": {},
   "outputs": [],
   "source": [
    "#!flask/bin/python\n",
    "from flask import Flask, jsonify, abort, make_response, request\n",
    "\n",
    "app = Flask(__name__, static_url_path=\"\")"
   ]
  },
  {
   "cell_type": "code",
   "execution_count": 2,
   "metadata": {},
   "outputs": [],
   "source": [
    "lamp_data = []"
   ]
  },
  {
   "cell_type": "code",
   "execution_count": 3,
   "metadata": {},
   "outputs": [],
   "source": [
    "@app.route('/lampu/api/reg/', methods=['POST'])\n",
    "def create_accout():\n",
    "    if not request.json or not 'name' in request.json:\n",
    "        abort(400)\n",
    "    account = {\n",
    "        'name': request.json.get('name'),\n",
    "        'data': []\n",
    "    }\n",
    "    lamp_data.append(account)\n",
    "    return jsonify({'name': account}), 201"
   ]
  },
  {
   "cell_type": "code",
   "execution_count": 4,
   "metadata": {},
   "outputs": [],
   "source": [
    "@app.route('/lampu/api/<name>/', methods=['POST'])\n",
    "def create_lamp(name):\n",
    "    lamp = [lamp for lamp in lamp_data if lamp['name'] == name]\n",
    "    if len(lamp) == 0:\n",
    "        abort(404)\n",
    "    if not request.json:\n",
    "        abort(400)\n",
    "    if 'state' in request.json and type(request.json['state']) != int:\n",
    "        abort(400)\n",
    "        \n",
    "        \n",
    "    lamp = [lamp for lamp in lamp_data if lamp['name'] == 'tegar']\n",
    "    lamp[0]['data'].append({\n",
    "        'id': request.json.get('id'),\n",
    "        'state': request.json.get('state'),\n",
    "        'location': request.json.get('location')\n",
    "    })\n",
    "    \n",
    "    return jsonify({'lamp_data': lamp[0]['data']}), 201"
   ]
  },
  {
   "cell_type": "code",
   "execution_count": 5,
   "metadata": {},
   "outputs": [],
   "source": [
    "@app.route('/lamp/api/<name>/', methods=['GET'])\n",
    "def get_lamps(name):\n",
    "    lamp = [lamp for lamp in lamp_data if lamp['name'] == name]\n",
    "    return jsonify({'lamp_data': lamp[0]['data']})"
   ]
  },
  {
   "cell_type": "code",
   "execution_count": 6,
   "metadata": {},
   "outputs": [],
   "source": [
    "@app.route('/lamp/api/<name>/<lamp_id>/', methods=['GET'])\n",
    "def get_lamp(name, lamp_id):\n",
    "    lamps = [lamp for lamp in lamp_data if lamp['name'] == name]\n",
    "    if len(lamps) == 0:\n",
    "        abort(404)\n",
    "        \n",
    "    selected_lamp = [lamp for lamp in lamps[0]['data'] if lamp['id'] == lamp_id]\n",
    "    if len(selected_lamp) == 0:\n",
    "        abort(404)\n",
    "    return jsonify({'lamp_data': selected_lamp[0]})"
   ]
  },
  {
   "cell_type": "code",
   "execution_count": 7,
   "metadata": {},
   "outputs": [],
   "source": [
    "@app.route('/lamp/api/<name>', methods=['PUT'])\n",
    "def update_all_lamp(name):\n",
    "    lamps = [lamp for lamp in lamp_data if lamp['name'] == name]\n",
    "    if len(lamps) == 0:\n",
    "        print(1)\n",
    "        abort(404)\n",
    "        \n",
    "    lamp = [lamp for lamp in lamps]\n",
    "    if len(lamp) == 0:\n",
    "        print(2)\n",
    "        abort(404)\n",
    "    if not request.json:\n",
    "        print(3)\n",
    "        abort(400)\n",
    "    if 'state' in request.json and type(request.json['state']) is not int:\n",
    "        abort(400)\n",
    "    \n",
    "    for i in range(0,len(lamp)):\n",
    "        lamp[i]['state'] = request.json.get('state', lamp[i]['state'])\n",
    "        \n",
    "    return jsonify({'lamp': lamp})"
   ]
  },
  {
   "cell_type": "code",
   "execution_count": 8,
   "metadata": {},
   "outputs": [],
   "source": [
    "@app.route('/lamp/api/<name>/<lamp_id>/', methods=['PUT'])\n",
    "def update_lamp(name,lamp_id):\n",
    "    lamps = [lamp for lamp in lamp_data if lamp['name'] == name]\n",
    "    if len(lamps) == 0:\n",
    "        print(1)\n",
    "        abort(404)\n",
    "        \n",
    "    selected_lamp = [lamp for lamp in lamps[0]['data'] if lamp['id'] == lamp_id]\n",
    "    if len(selected_lamp) == 0:\n",
    "        print(2)\n",
    "        abort(404)\n",
    "    if not request.json:\n",
    "        print(3)\n",
    "        abort(400)\n",
    "    if 'state' in request.json and type(request.json['state']) is not int:\n",
    "        abort(400)\n",
    "    if 'location' in request.json and type(request.json['location']) is not str:\n",
    "        abort(400)\n",
    "        \n",
    "    selected_lamp[0]['state'] = request.json.get('state', selected_lamp[0]['state'])\n",
    "    selected_lamp[0]['location'] = request.json.get('location', selected_lamp[0]['location'])\n",
    "    return jsonify({'lamp': selected_lamp[0]})"
   ]
  },
  {
   "cell_type": "code",
   "execution_count": 9,
   "metadata": {},
   "outputs": [],
   "source": [
    "@app.errorhandler(404)\n",
    "def not_found(error):\n",
    "    return make_response(jsonify({'error': 'Not found'}), 404)"
   ]
  },
  {
   "cell_type": "code",
   "execution_count": 10,
   "metadata": {
    "scrolled": false
   },
   "outputs": [
    {
     "name": "stderr",
     "output_type": "stream",
     "text": [
      " * Running on http://127.0.0.1:5000/ (Press CTRL+C to quit)\n",
      "127.0.0.1 - - [23/Mar/2018 06:00:36] \"POST /lampu/api/reg/ HTTP/1.1\" 201 -\n",
      "127.0.0.1 - - [23/Mar/2018 06:00:38] \"POST /lampu/api/tegar/ HTTP/1.1\" 201 -\n",
      "127.0.0.1 - - [23/Mar/2018 06:00:48] \"GET /lamp/api/tegar/1235 HTTP/1.1\" 301 -\n",
      "127.0.0.1 - - [23/Mar/2018 06:00:48] \"GET /lamp/api/tegar/1235/ HTTP/1.1\" 200 -\n",
      "127.0.0.1 - - [23/Mar/2018 06:00:54] \"PUT /lamp/api/tegar/1235 HTTP/1.1\" 301 -\n",
      "127.0.0.1 - - [23/Mar/2018 06:00:54] \"PUT /lamp/api/tegar/1235/ HTTP/1.1\" 200 -\n",
      "127.0.0.1 - - [23/Mar/2018 06:00:59] \"PUT /lamp/api/tegar/1235 HTTP/1.1\" 301 -\n",
      "127.0.0.1 - - [23/Mar/2018 06:00:59] \"PUT /lamp/api/tegar/1235/ HTTP/1.1\" 200 -\n",
      "127.0.0.1 - - [23/Mar/2018 06:01:12] \"PUT /lamp/api/tegar/1235 HTTP/1.1\" 301 -\n",
      "127.0.0.1 - - [23/Mar/2018 06:01:12] \"PUT /lamp/api/tegar/1235/ HTTP/1.1\" 400 -\n",
      "127.0.0.1 - - [23/Mar/2018 06:01:19] \"PUT /lamp/api/tegar/1235 HTTP/1.1\" 301 -\n",
      "127.0.0.1 - - [23/Mar/2018 06:01:19] \"PUT /lamp/api/tegar/1235/ HTTP/1.1\" 200 -\n",
      "127.0.0.1 - - [23/Mar/2018 06:01:35] \"PUT /lamp/api/tegar/1234 HTTP/1.1\" 301 -\n",
      "127.0.0.1 - - [23/Mar/2018 06:01:35] \"PUT /lamp/api/tegar/1234/ HTTP/1.1\" 404 -\n"
     ]
    },
    {
     "name": "stdout",
     "output_type": "stream",
     "text": [
      "2\n"
     ]
    },
    {
     "name": "stderr",
     "output_type": "stream",
     "text": [
      "127.0.0.1 - - [23/Mar/2018 06:10:56] \"PUT /lamp/api/tegar/1234 HTTP/1.1\" 301 -\n",
      "127.0.0.1 - - [23/Mar/2018 06:10:56] \"PUT /lamp/api/tegar/1234/ HTTP/1.1\" 404 -\n"
     ]
    },
    {
     "name": "stdout",
     "output_type": "stream",
     "text": [
      "2\n"
     ]
    },
    {
     "name": "stderr",
     "output_type": "stream",
     "text": [
      "127.0.0.1 - - [23/Mar/2018 06:11:01] \"PUT /lamp/api/tegar/1235 HTTP/1.1\" 301 -\n",
      "127.0.0.1 - - [23/Mar/2018 06:11:01] \"PUT /lamp/api/tegar/1235/ HTTP/1.1\" 200 -\n"
     ]
    }
   ],
   "source": [
    "if __name__ == '__main__':\n",
    "    app.run(debug=False)"
   ]
  }
 ],
 "metadata": {
  "kernelspec": {
   "display_name": "Python 3",
   "language": "python",
   "name": "python3"
  },
  "language_info": {
   "codemirror_mode": {
    "name": "ipython",
    "version": 3
   },
   "file_extension": ".py",
   "mimetype": "text/x-python",
   "name": "python",
   "nbconvert_exporter": "python",
   "pygments_lexer": "ipython3",
   "version": "3.6.3"
  }
 },
 "nbformat": 4,
 "nbformat_minor": 2
}
